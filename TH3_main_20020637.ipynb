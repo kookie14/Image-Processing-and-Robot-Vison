{
  "cells": [
    {
      "cell_type": "markdown",
      "metadata": {
        "id": "view-in-github",
        "colab_type": "text"
      },
      "source": [
        "<a href=\"https://colab.research.google.com/github/kookie14/Image-Processing-and-Robot-Vison/blob/main/TH3_main_20020637.ipynb\" target=\"_parent\"><img src=\"https://colab.research.google.com/assets/colab-badge.svg\" alt=\"Open In Colab\"/></a>"
      ]
    },
    {
      "cell_type": "markdown",
      "metadata": {
        "id": "qHQwPWHDn7az"
      },
      "source": [
        "# <font color = white>Thực hành số 3 </font>"
      ]
    },
    {
      "cell_type": "markdown",
      "metadata": {
        "id": "gBofFmFon7a1"
      },
      "source": [
        "* Import library"
      ]
    },
    {
      "cell_type": "code",
      "execution_count": null,
      "metadata": {
        "id": "s82fWaFin7a2"
      },
      "outputs": [],
      "source": [
        "# %reset\n",
        "import cv2\n",
        "import numpy as np \n",
        "import matplotlib.pyplot as plt\n",
        "from sklearn import neighbors\n",
        "from sklearn.metrics import accuracy_score\n",
        "import time\n",
        "import os\n",
        "import cv2 as cv\n",
        "from sklearn.model_selection import train_test_split\n",
        "from sklearn.neighbors import KNeighborsClassifier\n"
      ]
    },
    {
      "cell_type": "code",
      "execution_count": null,
      "metadata": {
        "id": "csjg2pkNn7a2"
      },
      "outputs": [],
      "source": [
        "# pathTest ='dataset\\\\trainingSet'\n",
        "# filenames = os.listdir(pathTest)\n",
        "# dataTest = []\n",
        "# labelTest = []\n",
        "\n",
        "\n",
        "# for i in filenames:\n",
        "#     labelPathTest = pathTest + \"\\\\\" + i\n",
        "#     listPathTest  = os.listdir(labelPathTest)\n",
        "#     for k in listPathTest:\n",
        "#         files = labelPathTest + \"\\\\\" + k\n",
        "#         image = cv2.imread(files, 0)\n",
        "#         image = image.reshape(-1).tolist()\n",
        "#         dataTest.append(image)\n",
        "#         labelTest.append(int(i))\n",
        "\n",
        "# dataTrain = np.array(dataTest)\n",
        "# labelTest = np.array(labelTest)\n",
        "\n"
      ]
    },
    {
      "cell_type": "code",
      "execution_count": null,
      "metadata": {
        "id": "dsnJ1jWln7a3"
      },
      "outputs": [],
      "source": [
        "pathTrain ='dataset\\\\trainingSet'\n",
        "filename = os.listdir(pathTrain)\n",
        "dataTrain = []\n",
        "labelTrain = []\n",
        "\n",
        "for i in filename:\n",
        "    labelPathTrain = pathTrain + \"\\\\\" + i\n",
        "    listPathIm  = os.listdir(labelPathTrain)\n",
        "    for k in listPathIm:\n",
        "        files = labelPathTrain + \"\\\\\" + k\n",
        "        image = cv2.imread(files, 0)\n",
        "        image = image.reshape(-1).tolist()\n",
        "        dataTrain.append(image)\n",
        "        labelTrain.append(int(i))\n",
        "dataTrain = np.array(dataTrain)\n",
        "labelTrain = np.array(labelTrain)\n",
        "\n",
        "(dataTrain, dataTest, labelTrain, labelTest) = train_test_split(dataTrain, labelTrain, test_size = 200, random_state= 0)\n"
      ]
    },
    {
      "cell_type": "markdown",
      "metadata": {
        "id": "yVUCDqMyn7a3"
      },
      "source": [
        "# <font color = yellow> Xây dựng mô hình KNN </font>"
      ]
    },
    {
      "cell_type": "markdown",
      "metadata": {
        "id": "rgkPosU9n7a3"
      },
      "source": [
        "* Tính khoảng giữa vector và ma trận"
      ]
    },
    {
      "cell_type": "code",
      "execution_count": null,
      "metadata": {
        "id": "7XuK432Pn7a3"
      },
      "outputs": [],
      "source": [
        "def distance(dataTest: np, dataTrain):\n",
        "    dataTest = (np.array(dataTest)).reshape(1,-1)\n",
        "    dist = np.sqrt(np.sum((dataTest - dataTrain)**2, axis =1))\n",
        "    return dist.reshape(1, -1)"
      ]
    },
    {
      "cell_type": "code",
      "execution_count": null,
      "metadata": {
        "id": "f--sUR5tn7a3"
      },
      "outputs": [],
      "source": [
        "def distance2Matrix(dataTest: np, dataTrain):\n",
        "    dist = distance(dataTest[0], dataTrain)\n",
        "    for i in range(1, (np.array(dataTest.shape[0]))):\n",
        "        d = distance(dataTest[i], np.array(dataTrain))\n",
        "        dist = np.concatenate((dist, d), axis=0)\n",
        "    return dist\n"
      ]
    },
    {
      "cell_type": "code",
      "execution_count": null,
      "metadata": {
        "id": "083crT9qn7a4"
      },
      "outputs": [],
      "source": [
        "def predict(dataTrain: np, labelTrain: np, dataTest: np, k = 5):\n",
        "    dist = distance2Matrix(dataTest, dataTrain)\n",
        "    ID = np.argsort(dist, axis=1)\n",
        "    Knearest = labelTrain[ID[:,: k]]\n",
        "    predictY = np.zeros(dataTest.shape[0])\n",
        "    for i in range(predictY.shape[0]):\n",
        "        counts = np.bincount(Knearest[i])\n",
        "        predictY[i] = np.argmax(counts)\n",
        "    return predictY"
      ]
    },
    {
      "cell_type": "code",
      "execution_count": null,
      "metadata": {
        "id": "oCY2iby7n7a4",
        "outputId": "3b5dd43d-b8f8-48a0-dda4-d940a08575bc"
      },
      "outputs": [
        {
          "name": "stdout",
          "output_type": "stream",
          "text": [
            " Accurency score is:  0.86\n"
          ]
        }
      ],
      "source": [
        "k = 5\n",
        "predictY = predict(np.array(dataTrain), np.array(labelTrain), np.array(dataTest), k)\n",
        "acc = accuracy_score(y_true= labelTest, y_pred = predictY)\n",
        "print(\" Accurency score is: \", acc)\n"
      ]
    },
    {
      "cell_type": "markdown",
      "metadata": {
        "id": "nH5G1aFNn7a4"
      },
      "source": [
        "# Sử dụng KNN trong trong thư viện sklearn"
      ]
    },
    {
      "cell_type": "code",
      "execution_count": null,
      "metadata": {
        "id": "bLzvUr-Cn7a5",
        "outputId": "d7ee650b-70ff-438f-853b-e2d7fa718d56"
      },
      "outputs": [
        {
          "name": "stdout",
          "output_type": "stream",
          "text": [
            "Accurency score is:  0.86\n"
          ]
        }
      ],
      "source": [
        "model = KNeighborsClassifier(n_neighbors= 5)\n",
        "model.fit(dataTrain, labelTrain)\n",
        "Y_predict = model.predict(dataTest)\n",
        "acc = accuracy_score(y_true=labelTest, y_pred= Y_predict)\n",
        "print(\"Accurency score is: \", acc)"
      ]
    }
  ],
  "metadata": {
    "kernelspec": {
      "display_name": "Python 3.8.8 64-bit",
      "language": "python",
      "name": "python3"
    },
    "language_info": {
      "codemirror_mode": {
        "name": "ipython",
        "version": 3
      },
      "file_extension": ".py",
      "mimetype": "text/x-python",
      "name": "python",
      "nbconvert_exporter": "python",
      "pygments_lexer": "ipython3",
      "version": "3.8.8"
    },
    "orig_nbformat": 4,
    "vscode": {
      "interpreter": {
        "hash": "aa27a5872d25e66399f9ac95d7786119b60567647cbc86df6bcd9929f2af143e"
      }
    },
    "colab": {
      "provenance": [],
      "include_colab_link": true
    }
  },
  "nbformat": 4,
  "nbformat_minor": 0
}